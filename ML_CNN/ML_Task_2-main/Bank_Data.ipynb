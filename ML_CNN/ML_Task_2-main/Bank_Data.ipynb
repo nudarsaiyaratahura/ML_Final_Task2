{
  "nbformat": 4,
  "nbformat_minor": 0,
  "metadata": {
    "colab": {
      "provenance": []
    },
    "kernelspec": {
      "name": "python3",
      "display_name": "Python 3"
    },
    "language_info": {
      "name": "python"
    }
  },
  "cells": [
    {
      "cell_type": "code",
      "execution_count": 2,
      "metadata": {
        "id": "GwAG3zdoXTHG"
      },
      "outputs": [],
      "source": [
        "import time\n",
        "import pandas as pd\n",
        "from sklearn.model_selection import train_test_split\n",
        "from sklearn.preprocessing import StandardScaler, LabelEncoder\n",
        "from sklearn.svm import SVC\n",
        "from sklearn.metrics import classification_report, confusion_matrix, accuracy_score\n",
        "import seaborn as sns\n",
        "import matplotlib.pyplot as plt\n"
      ]
    },
    {
      "cell_type": "code",
      "source": [
        "file_path = 'bank-full.csv'\n",
        "data = pd.read_csv(file_path, delimiter=';')\n",
        "print(\"Dataset loaded successfully.\")\n",
        "print(\"\\nFirst 5 rows of the dataset:\")\n",
        "print(data.head())"
      ],
      "metadata": {
        "colab": {
          "base_uri": "https://localhost:8080/"
        },
        "id": "92FVrDDdc-Aa",
        "outputId": "a1ed2805-5ccd-4245-ab83-9d91bb7a1a8e"
      },
      "execution_count": 14,
      "outputs": [
        {
          "output_type": "stream",
          "name": "stdout",
          "text": [
            "Dataset loaded successfully.\n",
            "\n",
            "First 5 rows of the dataset:\n",
            "   age           job  marital  education default  balance housing loan  \\\n",
            "0   58    management  married   tertiary      no     2143     yes   no   \n",
            "1   44    technician   single  secondary      no       29     yes   no   \n",
            "2   33  entrepreneur  married  secondary      no        2     yes  yes   \n",
            "3   47   blue-collar  married    unknown      no     1506     yes   no   \n",
            "4   33       unknown   single    unknown      no        1      no   no   \n",
            "\n",
            "   contact  day month  duration  campaign  pdays  previous poutcome   y  \n",
            "0  unknown    5   may       261         1     -1         0  unknown  no  \n",
            "1  unknown    5   may       151         1     -1         0  unknown  no  \n",
            "2  unknown    5   may        76         1     -1         0  unknown  no  \n",
            "3  unknown    5   may        92         1     -1         0  unknown  no  \n",
            "4  unknown    5   may       198         1     -1         0  unknown  no  \n"
          ]
        }
      ]
    },
    {
      "cell_type": "code",
      "source": [
        "# Step 2: Inspect the dataset\n",
        "print(\"\\nInspecting the dataset...\")\n",
        "print(data.info())\n",
        "print(\"\\nChecking for missing values...\")\n",
        "print(data.isnull().sum())"
      ],
      "metadata": {
        "colab": {
          "base_uri": "https://localhost:8080/"
        },
        "id": "C5jqD2rbc-DJ",
        "outputId": "05882121-5599-4797-bc0e-44c9e17eefcb"
      },
      "execution_count": 15,
      "outputs": [
        {
          "output_type": "stream",
          "name": "stdout",
          "text": [
            "\n",
            "Inspecting the dataset...\n",
            "<class 'pandas.core.frame.DataFrame'>\n",
            "RangeIndex: 45211 entries, 0 to 45210\n",
            "Data columns (total 17 columns):\n",
            " #   Column     Non-Null Count  Dtype \n",
            "---  ------     --------------  ----- \n",
            " 0   age        45211 non-null  int64 \n",
            " 1   job        45211 non-null  object\n",
            " 2   marital    45211 non-null  object\n",
            " 3   education  45211 non-null  object\n",
            " 4   default    45211 non-null  object\n",
            " 5   balance    45211 non-null  int64 \n",
            " 6   housing    45211 non-null  object\n",
            " 7   loan       45211 non-null  object\n",
            " 8   contact    45211 non-null  object\n",
            " 9   day        45211 non-null  int64 \n",
            " 10  month      45211 non-null  object\n",
            " 11  duration   45211 non-null  int64 \n",
            " 12  campaign   45211 non-null  int64 \n",
            " 13  pdays      45211 non-null  int64 \n",
            " 14  previous   45211 non-null  int64 \n",
            " 15  poutcome   45211 non-null  object\n",
            " 16  y          45211 non-null  object\n",
            "dtypes: int64(7), object(10)\n",
            "memory usage: 5.9+ MB\n",
            "None\n",
            "\n",
            "Checking for missing values...\n",
            "age          0\n",
            "job          0\n",
            "marital      0\n",
            "education    0\n",
            "default      0\n",
            "balance      0\n",
            "housing      0\n",
            "loan         0\n",
            "contact      0\n",
            "day          0\n",
            "month        0\n",
            "duration     0\n",
            "campaign     0\n",
            "pdays        0\n",
            "previous     0\n",
            "poutcome     0\n",
            "y            0\n",
            "dtype: int64\n"
          ]
        }
      ]
    },
    {
      "cell_type": "code",
      "source": [
        "# Step 3: Encode categorical variables\n",
        "print(\"\\nEncoding categorical variables...\")\n",
        "categorical_cols = data.select_dtypes(include=['object']).columns\n",
        "label_encoders = {}\n",
        "for col in categorical_cols:\n",
        "    le = LabelEncoder()\n",
        "    data[col] = le.fit_transform(data[col])\n",
        "    label_encoders[col] = le\n",
        "print(\"Encoding completed.\")\n",
        "print(\"\\nFirst 5 rows after encoding:\")\n",
        "print(data.head())"
      ],
      "metadata": {
        "colab": {
          "base_uri": "https://localhost:8080/"
        },
        "id": "UdsBSTVlc-Fx",
        "outputId": "29d7def7-4098-4372-838f-73e278d54d2a"
      },
      "execution_count": 16,
      "outputs": [
        {
          "output_type": "stream",
          "name": "stdout",
          "text": [
            "\n",
            "Encoding categorical variables...\n",
            "Encoding completed.\n",
            "\n",
            "First 5 rows after encoding:\n",
            "   age  job  marital  education  default  balance  housing  loan  contact  \\\n",
            "0   58    4        1          2        0     2143        1     0        2   \n",
            "1   44    9        2          1        0       29        1     0        2   \n",
            "2   33    2        1          1        0        2        1     1        2   \n",
            "3   47    1        1          3        0     1506        1     0        2   \n",
            "4   33   11        2          3        0        1        0     0        2   \n",
            "\n",
            "   day  month  duration  campaign  pdays  previous  poutcome  y  \n",
            "0    5      8       261         1     -1         0         3  0  \n",
            "1    5      8       151         1     -1         0         3  0  \n",
            "2    5      8        76         1     -1         0         3  0  \n",
            "3    5      8        92         1     -1         0         3  0  \n",
            "4    5      8       198         1     -1         0         3  0  \n"
          ]
        }
      ]
    },
    {
      "cell_type": "code",
      "source": [
        "# Step 4: Separate features and target variable\n",
        "print(\"\\nSeparating features and target variable...\")\n",
        "time.sleep(1)\n",
        "X = data.drop(columns=[\"y\"])  # Features\n",
        "y = data[\"y\"]  # Target\n",
        "print(\"Features and target variable separated.\")"
      ],
      "metadata": {
        "colab": {
          "base_uri": "https://localhost:8080/"
        },
        "id": "PLen6npAXVAG",
        "outputId": "0c51912c-8d30-49a0-afaa-14d0a7481ba0"
      },
      "execution_count": 17,
      "outputs": [
        {
          "output_type": "stream",
          "name": "stdout",
          "text": [
            "\n",
            "Separating features and target variable...\n",
            "Features and target variable separated.\n"
          ]
        }
      ]
    },
    {
      "cell_type": "code",
      "source": [
        "# Step 5: Split the dataset into training and testing sets\n",
        "print(\"\\nSplitting dataset into training and testing sets...\")\n",
        "time.sleep(1)\n",
        "X_train, X_test, y_train, y_test = train_test_split(X, y, test_size=0.3, random_state=42)\n",
        "print(\"Data split completed.\")\n",
        "print(f\"Training set size: {len(X_train)}, Testing set size: {len(X_test)}\")"
      ],
      "metadata": {
        "colab": {
          "base_uri": "https://localhost:8080/"
        },
        "id": "awOOXPmgXVC2",
        "outputId": "9875e770-bc98-4a45-8701-594b7ebb21dc"
      },
      "execution_count": 18,
      "outputs": [
        {
          "output_type": "stream",
          "name": "stdout",
          "text": [
            "\n",
            "Splitting dataset into training and testing sets...\n",
            "Data split completed.\n",
            "Training set size: 31647, Testing set size: 13564\n"
          ]
        }
      ]
    },
    {
      "cell_type": "code",
      "source": [
        "# Step 6: Standardize the features\n",
        "print(\"\\nStandardizing the features...\")\n",
        "time.sleep(1)\n",
        "scaler = StandardScaler()\n",
        "X_train = scaler.fit_transform(X_train)\n",
        "X_test = scaler.transform(X_test)\n",
        "print(\"Standardization completed.\")"
      ],
      "metadata": {
        "colab": {
          "base_uri": "https://localhost:8080/"
        },
        "id": "cuYGfJ3zdNAr",
        "outputId": "4096de6b-b4c4-4d1d-80f8-2341cf05c73e"
      },
      "execution_count": 19,
      "outputs": [
        {
          "output_type": "stream",
          "name": "stdout",
          "text": [
            "\n",
            "Standardizing the features...\n",
            "Standardization completed.\n"
          ]
        }
      ]
    },
    {
      "cell_type": "code",
      "source": [
        "# Step 7: Train the SVM model\n",
        "print(\"\\nTraining the SVM model...\")\n",
        "time.sleep(1)\n",
        "svm_model = SVC(kernel='rbf', random_state=42)\n",
        "svm_model.fit(X_train, y_train)\n",
        "print(\"Model training completed.\")"
      ],
      "metadata": {
        "colab": {
          "base_uri": "https://localhost:8080/"
        },
        "id": "PxnqTSeQdNDS",
        "outputId": "fc945940-542a-4626-ccb8-1095ce91a162"
      },
      "execution_count": 20,
      "outputs": [
        {
          "output_type": "stream",
          "name": "stdout",
          "text": [
            "\n",
            "Training the SVM model...\n",
            "Model training completed.\n"
          ]
        }
      ]
    },
    {
      "cell_type": "code",
      "source": [
        "# Step 8: Make predictions\n",
        "print(\"\\nMaking predictions on the test set...\")\n",
        "time.sleep(1)\n",
        "y_pred = svm_model.predict(X_test)\n",
        "print(\"Predictions completed.\")"
      ],
      "metadata": {
        "colab": {
          "base_uri": "https://localhost:8080/"
        },
        "id": "_E4IFDLbdSTV",
        "outputId": "f4c8b268-4ed9-4731-b6b8-bdd83ac6f9ad"
      },
      "execution_count": 21,
      "outputs": [
        {
          "output_type": "stream",
          "name": "stdout",
          "text": [
            "\n",
            "Making predictions on the test set...\n",
            "Predictions completed.\n"
          ]
        }
      ]
    },
    {
      "cell_type": "code",
      "source": [
        "# Step 9: Evaluate the model\n",
        "print(\"\\nEvaluating the model...\")\n",
        "time.sleep(1)\n",
        "classification_rep = classification_report(y_test, y_pred)\n",
        "confusion_mat = confusion_matrix(y_test, y_pred)\n",
        "accuracy = accuracy_score(y_test, y_pred)\n",
        "print(\"\\nClassification Report:\")\n",
        "print(classification_rep)\n",
        "print(\"\\nConfusion Matrix:\")\n",
        "print(confusion_mat)\n",
        "print(f\"\\nAccuracy Score: {accuracy:.2f}\")"
      ],
      "metadata": {
        "colab": {
          "base_uri": "https://localhost:8080/"
        },
        "id": "NK81_UzcdYe_",
        "outputId": "f964981d-a80f-4bcf-969b-6539bef00df5"
      },
      "execution_count": 22,
      "outputs": [
        {
          "output_type": "stream",
          "name": "stdout",
          "text": [
            "\n",
            "Evaluating the model...\n",
            "\n",
            "Classification Report:\n",
            "              precision    recall  f1-score   support\n",
            "\n",
            "           0       0.91      0.98      0.94     11966\n",
            "           1       0.65      0.27      0.38      1598\n",
            "\n",
            "    accuracy                           0.90     13564\n",
            "   macro avg       0.78      0.63      0.66     13564\n",
            "weighted avg       0.88      0.90      0.88     13564\n",
            "\n",
            "\n",
            "Confusion Matrix:\n",
            "[[11736   230]\n",
            " [ 1166   432]]\n",
            "\n",
            "Accuracy Score: 0.90\n"
          ]
        }
      ]
    },
    {
      "cell_type": "code",
      "source": [
        "# Step 10: Visualize the confusion matrix\n",
        "print(\"\\nVisualizing the confusion matrix...\")\n",
        "time.sleep(1)\n",
        "sns.heatmap(confusion_mat, annot=True, fmt='d', cmap='Reds')\n",
        "plt.title(\"Confusion Matrix\")\n",
        "plt.xlabel(\"Predicted\")\n",
        "plt.ylabel(\"Actual\")\n",
        "plt.show()\n",
        "\n",
        "print(\"\\nTask completed.\")"
      ],
      "metadata": {
        "colab": {
          "base_uri": "https://localhost:8080/",
          "height": 545
        },
        "id": "7BWE5YAJdcXE",
        "outputId": "a8c4a345-3e42-43b9-f32d-481820961d53"
      },
      "execution_count": 12,
      "outputs": [
        {
          "output_type": "stream",
          "name": "stdout",
          "text": [
            "\n",
            "Visualizing the confusion matrix...\n"
          ]
        },
        {
          "output_type": "display_data",
          "data": {
            "text/plain": [
              "<Figure size 640x480 with 2 Axes>"
            ],
            "image/png": "[encoded data removed]"
          },
          "metadata": {}
        },
        {
          "output_type": "stream",
          "name": "stdout",
          "text": [
            "\n",
            "Task completed.\n"
          ]
        }
      ]
    },
    {
      "cell_type": "code",
      "source": [],
      "metadata": {
        "id": "oJ-mowsudcZc"
      },
      "execution_count": null,
      "outputs": []
    }
  ]
}